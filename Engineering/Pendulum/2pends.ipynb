{
 "cells": [
  {
   "cell_type": "code",
   "execution_count": 2,
   "id": "7f175b2d-23b5-420c-8f05-627637d5be31",
   "metadata": {},
   "outputs": [],
   "source": [
    "from numpy import sin, cos\n",
    "from scipy.integrate import solve_ivp\n",
    "from matplotlib.animation import FuncAnimation\n",
    "import numpy as np\n",
    "import matplotlib.pyplot as plt"
   ]
  },
  {
   "cell_type": "code",
   "execution_count": 2,
   "id": "d79da757-3709-4ffa-9a01-836074acdc64",
   "metadata": {},
   "outputs": [],
   "source": [
    "g = 9.8\n",
    "L1 = 1.0\n",
    "L2 = 1.0\n",
    "M1 = 1.0\n",
    "M2 = 1.0"
   ]
  },
  {
   "cell_type": "code",
   "execution_count": 3,
   "id": "008cfe24-0cc1-4161-9a68-f940ae3fa242",
   "metadata": {},
   "outputs": [],
   "source": [
    "def eom(t, state):\n",
    "    \n",
    "    dydx = np.zeros_like(state)\n",
    "    dydx[0] = state[1]\n",
    "    \n",
    "    delta = state[2] - state[0]\n",
    "    den1 = (M1+M2)*L1 -M2*L1*cos(delta)*cos(delta)\n",
    "    dydx[1] = ((M2*L1*state[1]*state[1]*sin(delta)*cos(delta) + M2*g*sin(state[2])*cos(delta) + M2*L2*state[3]*state[3]*sin(delta) - (M1+M2)*g*sin(state[0]))/ den1)\n",
    "    \n",
    "    dydx[2] = state[3]\n",
    "    \n",
    "    den2 = (L2/L1)*den1\n",
    "    dydx[3] = ((-M2*L2*state[3]*state[3]*sin(delta)*cos(delta) + (M1+M2)*g*sin(state[0])*cos(delta) - (M1+M2)*L1*state[1]*state[1]*sin(delta)-(M1+M2)*g*sin(state[2]))/ den2)\n",
    "\n",
    "    return dydx"
   ]
  },
  {
   "cell_type": "code",
   "execution_count": 6,
   "id": "008de24d-9bd9-4323-b69f-6418b6de65af",
   "metadata": {},
   "outputs": [],
   "source": [
    "t_span = [0,20]\n",
    "dt = 0.05\n",
    "t = np.arange(t_span[0], t_span[1], dt)"
   ]
  },
  {
   "cell_type": "code",
   "execution_count": 7,
   "id": "a7ea5655-6e2d-41b8-8729-893b30f08fc7",
   "metadata": {},
   "outputs": [],
   "source": [
    "th1 = 100.0\n",
    "w1 = 0.0\n",
    "th2 = -10.0\n",
    "w2 = 0.0\n",
    "state = np.radians([th1, w1, th2, w2])"
   ]
  },
  {
   "cell_type": "code",
   "execution_count": 8,
   "id": "33f2d53d-a7d3-4dd8-af47-a453410ee7d9",
   "metadata": {},
   "outputs": [],
   "source": [
    "sol = solve_ivp(eom, t_span, state, t_eval=t)\n",
    "y = sol.y"
   ]
  },
  {
   "cell_type": "code",
   "execution_count": 9,
   "id": "6d814eac-c120-43b9-abc6-61e3abf41f06",
   "metadata": {},
   "outputs": [],
   "source": [
    "def gen():\n",
    "    for tt, th1, th2 in zip(t, y[0,:], y[2,:]):\n",
    "        x1 = L1*sin(th1)\n",
    "        y1 = -L1*cos(th1)\n",
    "        x2 = L2*sin(th2) + x1\n",
    "        y2 = -L2*cos(th2) + y1\n",
    "        \n",
    "        yield tt, x1, y1, x2, y2"
   ]
  },
  {
   "cell_type": "code",
   "execution_count": 10,
   "id": "396c3057-a73e-4e03-a117-c8917e9f2990",
   "metadata": {},
   "outputs": [
    {
     "data": {
      "image/png": "[encoded data removed]",
      "text/plain": [
       "<Figure size 640x480 with 1 Axes>"
      ]
     },
     "metadata": {},
     "output_type": "display_data"
    }
   ],
   "source": [
    "fig, ax = plt.subplots()\n",
    "ax.set_xlim(-(L1+L2), L1+L2)\n",
    "ax.set_ylim(-(L1+L2), L1+L2)\n",
    "ax.set_aspect('equal')\n",
    "ax.grid()"
   ]
  },
  {
   "cell_type": "code",
   "execution_count": 13,
   "id": "a5f75bed-97af-4f7b-bd78-c1dd2f689787",
   "metadata": {},
   "outputs": [],
   "source": [
    "locus, = ax.plot([], [], 'r-', linewidth=2)\n",
    "line, = ax.plot([], [], 'o-', linewidth=2)\n",
    "time_template = 'time = %.1fs'\n",
    "time_text = ax.text(0.05, 0.9, '', transform=ax.transAxes)\n",
    "\n",
    "xlocus, ylocus = [], []\n",
    "def animate(data):\n",
    "    t, x1, y1, x2, y2 = data\n",
    "    \n",
    "    xlocus.append(x2)\n",
    "    ylocus.append(y2)\n",
    "    \n",
    "    locus.set_data(xlocus, ylocus)\n",
    "    line.set_data([0, x1, x], [0, y1, y2])\n",
    "    time_text.set_text(time_template % (t))"
   ]
  },
  {
   "cell_type": "code",
   "execution_count": 14,
   "id": "4e79ee85-9e20-4e2f-9366-a75b7d2fa975",
   "metadata": {},
   "outputs": [],
   "source": [
    "ani = FuncAnimation(fig, animate, gen, interval=50, repeat=True)\n",
    "\n",
    "plt.show()"
   ]
  },
  {
   "cell_type": "code",
   "execution_count": null,
   "id": "4961c442-d2f6-4634-89bf-0cbb41231e9e",
   "metadata": {},
   "outputs": [],
   "source": []
  },
  {
   "cell_type": "code",
   "execution_count": 10,
   "id": "bd7d17bc-41a9-4d64-b49a-6c9dd5c260d2",
   "metadata": {},
   "outputs": [
    {
     "data": {
      "image/png": "[encoded data removed]",
      "text/plain": [
       "<Figure size 640x480 with 1 Axes>"
      ]
     },
     "metadata": {},
     "output_type": "display_data"
    }
   ],
   "source": [
    "g = 9.8\n",
    "L1 = 1.0\n",
    "L2 = 1.0\n",
    "M1 = 1.0\n",
    "M2 = 1.0\n",
    "\n",
    "def eom(t, state):\n",
    "    \n",
    "    dydx = np.zeros_like(state)\n",
    "    dydx[0] = state[1]\n",
    "    \n",
    "    delta = state[2] - state[0]\n",
    "    den1 = (M1+M2)*L1 -M2*L1*cos(delta)*cos(delta)\n",
    "    dydx[1] = ((M2*L1*(state[1]**2)*sin(delta)*cos(delta) + M2*g*sin(state[2])*cos(delta) + M2*L2*(state[3]**2)*sin(delta) - (M1+M2)*g*sin(state[0])) / den1)\n",
    "    \n",
    "    dydx[2] = state[3]\n",
    "    \n",
    "    den2 = (L2/L1)*den1\n",
    "    dydx[3] = ((-M2*L2*(state[3]**2)*sin(delta)*cos(delta) + (M1+M2)*g*sin(state[0])*cos(delta) - (M1+M2)*L1*(state[1]**2)*sin(delta)-(M1+M2)*g*sin(state[2])) / den2)\n",
    "\n",
    "    return dydx\n",
    "\n",
    "t_span = [0,20]\n",
    "dt = 0.05\n",
    "t = np.arange(t_span[0], t_span[1], dt)\n",
    "\n",
    "th1 = 120.0\n",
    "w1 = 0.0\n",
    "th2 = -10.0\n",
    "w2 = 0.0\n",
    "state = np.radians([th1, w1, th2, w2])\n",
    "\n",
    "sol = solve_ivp(eom, t_span, state, t_eval=t)\n",
    "y = sol.y\n",
    "\n",
    "def gen():\n",
    "    for tt, th1, th2 in zip(t, y[0,:], y[2,:]):\n",
    "        x1 = L1*sin(th1)\n",
    "        y1 = -L1*cos(th1)\n",
    "        x2 = L2*sin(th2) + x1\n",
    "        y2 = -L2*cos(th2) + y1\n",
    "        \n",
    "        yield tt, x1, y1, x2, y2\n",
    "        \n",
    "fig, ax = plt.subplots()\n",
    "ax.set_xlim(-(L1+L2), L1+L2)\n",
    "ax.set_ylim(-(L1+L2), L1+L2)\n",
    "ax.set_aspect('equal')\n",
    "ax.grid()\n",
    "\n",
    "locus, = ax.plot([], [], 'r-', linewidth=2)\n",
    "line, = ax.plot([], [], 'o-', linewidth=2)\n",
    "time_template = 'time = %.1fs'\n",
    "time_text = ax.text(0.05, 0.9, '', transform=ax.transAxes)\n",
    "\n",
    "xlocus, ylocus = [], []\n",
    "xlocus1, ylocus1 = [], []\n",
    "def animate(data):\n",
    "    t, x1, y1, x2, y2 = data\n",
    "    \n",
    "    xlocus.append(x2)\n",
    "    ylocus.append(y2)\n",
    "    xlocus1.append(x1)\n",
    "    ylocus1.append(y1)\n",
    "    \n",
    "    locus.set_data(xlocus, ylocus)\n",
    "    locus.set_data(xlocus1, ylocus1)\n",
    "    line.set_data([0, x1, x2], [0, y1, y2])\n",
    "    time_text.set_text(time_template % (t))\n",
    "    \n",
    "locus, = ax.plot([], [], 'r-', linewidth=2)\n",
    "line, = ax.plot([], [], 'o-', linewidth=2)\n",
    "time_template = 'time = %.1fs'\n",
    "time_text = ax.text(0.05, 0.9, '', transform=ax.transAxes)\n",
    "\n",
    "\n",
    "    \n",
    "ani = FuncAnimation(fig, animate, gen, interval=50, repeat=True)\n",
    "\n",
    "plt.show()\n",
    "\n",
    "ani.save('pendulum1.gif', writer='pillow', fps=15)\n"
   ]
  },
  {
   "cell_type": "code",
   "execution_count": null,
   "id": "7e5db9a4-1dca-4140-852d-5f0d265db6db",
   "metadata": {},
   "outputs": [],
   "source": []
  },
  {
   "cell_type": "code",
   "execution_count": null,
   "id": "33a21764-614a-480b-9302-10e0f39d6332",
   "metadata": {},
   "outputs": [],
   "source": []
  }
 ],
 "metadata": {
  "kernelspec": {
   "display_name": "Python 3 (ipykernel)",
   "language": "python",
   "name": "python3"
  },
  "language_info": {
   "codemirror_mode": {
    "name": "ipython",
    "version": 3
   },
   "file_extension": ".py",
   "mimetype": "text/x-python",
   "name": "python",
   "nbconvert_exporter": "python",
   "pygments_lexer": "ipython3",
   "version": "3.8.13"
  }
 },
 "nbformat": 4,
 "nbformat_minor": 5
}
